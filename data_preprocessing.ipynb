{
 "cells": [
  {
   "cell_type": "code",
   "execution_count": 10,
   "metadata": {},
   "outputs": [],
   "source": [
    "import tensorflow as tf\n",
    "import numpy as np\n",
    "import tensorflow.keras.preprocessing as preprocessing\n",
    "from collections import Counter\n",
    "import random"
   ]
  },
  {
   "cell_type": "code",
   "execution_count": 11,
   "metadata": {},
   "outputs": [],
   "source": [
    "def text_to_word_sequence(text):\n",
    "    words=preprocessing.text.text_to_word_sequence(text, filters='!\"#$%&()*+,-./:;<=>?@[\\]^_`{|}~\\n', lower=True, split=' ')\n",
    "    return words\n",
    "\n",
    "\n",
    "def create_lookup_tables(words):\n",
    "    word_counts = Counter(words)\n",
    "    sorted_vocab = sorted(word_counts, key=word_counts.get, reverse=True) #sorted_vocab : list of words\n",
    "    int_to_vocab = {ii: word for ii, word in enumerate(sorted_vocab)}\n",
    "    vocab_to_int = {word: ii for ii, word in int_to_vocab.items()}\n",
    "\n",
    "    return vocab_to_int, int_to_vocab\n",
    "\n",
    "# p_drop(word)=1-sqrt(treshold/freq(word)) , frequent words are more likely to be removed from the dataset\n",
    "def subsampling(int_words):\n",
    "    word_counts=Counter(int_words) # a dictionary from int_word to number of times it appeared in the text\n",
    "    total_count=len(int_words)\n",
    "    p_drops={word:1-np.sqrt(1e-5/(count/total_count)) for word,count in word_counts.items()}\n",
    "    train_words=[word for word in int_words if random.random()<(1-p_drops[word])] # the bigger p_drop the less likely to be chosen\n",
    "    return train_words\n",
    "\n",
    "def get_int_words():\n",
    "    text=\"\"\n",
    "    #reading at most 100 lines\n",
    "    with open('data.txt') as f:\n",
    "        i=0\n",
    "        for line in f.readlines():\n",
    "            text+=line    \n",
    "            i+=1\n",
    "            if i>=100:\n",
    "                break\n",
    "    words=text_to_word_sequence(text)\n",
    "    vocab_to_int, int_to_vocab = create_lookup_tables(words)\n",
    "    int_words = [vocab_to_int[word] for word in words]\n",
    "    return int_words,vocab_to_int\n",
    "#     print(int_words)\n",
    "#     print(len(int_words))\n",
    "#     train_words=subsampling(int_words)"
   ]
  },
  {
   "cell_type": "code",
   "execution_count": null,
   "metadata": {},
   "outputs": [],
   "source": []
  },
  {
   "cell_type": "code",
   "execution_count": null,
   "metadata": {},
   "outputs": [],
   "source": []
  },
  {
   "cell_type": "code",
   "execution_count": null,
   "metadata": {},
   "outputs": [],
   "source": []
  }
 ],
 "metadata": {
  "kernelspec": {
   "display_name": "Python 3",
   "language": "python",
   "name": "python3"
  },
  "language_info": {
   "codemirror_mode": {
    "name": "ipython",
    "version": 3
   },
   "file_extension": ".py",
   "mimetype": "text/x-python",
   "name": "python",
   "nbconvert_exporter": "python",
   "pygments_lexer": "ipython3",
   "version": "3.6.6"
  }
 },
 "nbformat": 4,
 "nbformat_minor": 2
}
